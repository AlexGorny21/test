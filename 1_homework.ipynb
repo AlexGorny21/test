{
 "cells": [
  {
   "cell_type": "markdown",
   "id": "f4607972",
   "metadata": {},
   "source": [
    "print(312)sdfsd\n",
    "\n"
   ]
  },
  {
   "cell_type": "code",
   "execution_count": 7,
   "id": "856b0afd",
   "metadata": {},
   "outputs": [
    {
     "data": {
      "text/plain": [
       "[1, 0, 4, 9, 100, 16, 324, 25]"
      ]
     },
     "execution_count": 7,
     "metadata": {},
     "output_type": "execute_result"
    }
   ],
   "source": [
    "#Normal\n",
    "#Тоже самое, но на этот раз без цикла (смотрим раздел с функциями из ноутбука, который разбирали в классе). \n",
    "#Сравнить скорость выполнения первого и второго варианта.\n",
    "list_example = [1, 0, 2, 3, 10, 4, 18, 5]\n",
    "def square_list(input_list):\n",
    "    new_list = []\n",
    "    for x in input_list:\n",
    "        new_list.append(x * x)\n",
    "    return new_list\n",
    "square_list(list_example)"
   ]
  },
  {
   "cell_type": "code",
   "execution_count": 2,
   "id": "b0dfebe0-302c-45f0-b239-dd650d35f7fd",
   "metadata": {},
   "outputs": [
    {
     "data": {
      "text/plain": [
       "[1, 0, 4, 9, 100, 16, 324, 25]"
      ]
     },
     "execution_count": 2,
     "metadata": {},
     "output_type": "execute_result"
    }
   ],
   "source": [
    "# Easy\n",
    "#Нужно написать функцию, которая на вход получает список из чисел, а на выходе дает список, где каждое \n",
    "#число возведено в квадрат. Решать при помощи цикла.\n",
    "list_example = [1, 0, 2, 3, 10, 4, 18, 5]\n",
    "def square_list(input_list):\n",
    "    input_list[::] = map(lambda x: x*x, input_list[::])\n",
    "    return input_list\n",
    "square_list(list_example)"
   ]
  },
  {
   "cell_type": "code",
   "execution_count": null,
   "id": "0f33d703-1982-412f-952c-2ffad2f02672",
   "metadata": {},
   "outputs": [],
   "source": []
  },
  {
   "cell_type": "code",
   "execution_count": null,
   "id": "71572387-e93a-4bea-990c-52556dce2b1d",
   "metadata": {},
   "outputs": [],
   "source": []
  },
  {
   "cell_type": "code",
   "execution_count": null,
   "id": "de86c216-2ae6-499d-85a7-1dc47cbd2be3",
   "metadata": {},
   "outputs": [],
   "source": []
  }
 ],
 "metadata": {
  "kernelspec": {
   "display_name": "Python 3 (ipykernel)",
   "language": "python",
   "name": "python3"
  },
  "language_info": {
   "codemirror_mode": {
    "name": "ipython",
    "version": 3
   },
   "file_extension": ".py",
   "mimetype": "text/x-python",
   "name": "python",
   "nbconvert_exporter": "python",
   "pygments_lexer": "ipython3",
   "version": "3.9.7"
  }
 },
 "nbformat": 4,
 "nbformat_minor": 5
}
