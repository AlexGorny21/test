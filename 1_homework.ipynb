{
 "cells": [
  {
   "cell_type": "markdown",
   "id": "f4607972",
   "metadata": {},
   "source": [
    "\n",
    "\n"
   ]
  },
  {
   "cell_type": "markdown",
   "id": "f7b809bf-bd98-4f19-bc68-8c62cbf0fc26",
   "metadata": {},
   "source": [
    "Установить Anaconda и Git. Создать репозиторий на GitHub.\n",
    "\n",
    "Выложить в репозиторий на гитхабе (в ветку master) в отдельную папку (можно назвать ее 01-homework, например) ноутбук с решением хотя бы двух задач (систему со сложностью обговаривали на занятии)"
   ]
  },
  {
   "cell_type": "markdown",
   "id": "38834eee",
   "metadata": {},
   "source": [
    "# Easy"
   ]
  },
  {
   "cell_type": "markdown",
   "id": "9ba4eef4",
   "metadata": {},
   "source": [
    "\n",
    "Нужно написать функцию, которая на вход получает список из чисел, а на выходе дает список, где каждое \n",
    "число возведено в квадрат. Решать при помощи цикла."
   ]
  },
  {
   "cell_type": "code",
   "execution_count": 2,
   "id": "b0dfebe0-302c-45f0-b239-dd650d35f7fd",
   "metadata": {
    "tags": []
   },
   "outputs": [
    {
     "data": {
      "text/plain": [
       "[1, 0, 4, 9, 100, 16, 324, 25]"
      ]
     },
     "execution_count": 2,
     "metadata": {},
     "output_type": "execute_result"
    }
   ],
   "source": [
    "\n",
    "list_example = [1, 0, 2, 3, 10, 4, 18, 5]\n",
    "def square_list(input_list):\n",
    "    input_list[::] = map(lambda x: x*x, input_list[::])\n",
    "    return input_list\n",
    "square_list(list_example)"
   ]
  },
  {
   "cell_type": "code",
   "execution_count": 3,
   "id": "34349aea-e9f4-471d-ad7d-6f3ee103ebba",
   "metadata": {},
   "outputs": [
    {
     "name": "stdout",
     "output_type": "stream",
     "text": [
      "4.39 µs ± 537 ns per loop (mean ± std. dev. of 7 runs, 100000 loops each)\n"
     ]
    }
   ],
   "source": [
    "%%timeit\n",
    "list1=list(range(10))\n",
    "list1\n",
    "square_list(list1)"
   ]
  },
  {
   "cell_type": "code",
   "execution_count": 4,
   "id": "5b00150a-ec05-4630-a74a-3189ec7643d1",
   "metadata": {},
   "outputs": [
    {
     "name": "stdout",
     "output_type": "stream",
     "text": [
      "27 µs ± 2.55 µs per loop (mean ± std. dev. of 7 runs, 10000 loops each)\n"
     ]
    }
   ],
   "source": [
    "%%timeit\n",
    "list2 = list(range(100))\n",
    "square_list(list2)"
   ]
  },
  {
   "cell_type": "code",
   "execution_count": 5,
   "id": "ef057524-87c1-4e97-8c1c-98da25924b47",
   "metadata": {},
   "outputs": [
    {
     "name": "stdout",
     "output_type": "stream",
     "text": [
      "1.6 µs ± 80.5 ns per loop (mean ± std. dev. of 7 runs, 1000000 loops each)\n"
     ]
    }
   ],
   "source": [
    "%%timeit\n",
    "list3 = list()\n",
    "square_list(list3)"
   ]
  },
  {
   "cell_type": "markdown",
   "id": "ba0eae46",
   "metadata": {},
   "source": [
    "# Normal"
   ]
  },
  {
   "cell_type": "markdown",
   "id": "f0e6592f",
   "metadata": {},
   "source": [
    "Тоже самое, но на этот раз без цикла (смотрим раздел с функциями из ноутбука, который разбирали в классе). \n",
    "Сравнить скорость выполнения первого и второго варианта."
   ]
  },
  {
   "cell_type": "code",
   "execution_count": 7,
   "id": "856b0afd",
   "metadata": {},
   "outputs": [
    {
     "data": {
      "text/plain": [
       "[1, 0, 4, 9, 100, 16, 324, 25]"
      ]
     },
     "execution_count": 7,
     "metadata": {},
     "output_type": "execute_result"
    }
   ],
   "source": [
    "list_example = [1, 0, 2, 3, 10, 4, 18, 5]\n",
    "def square_list(input_list):\n",
    "    new_list = []\n",
    "    for x in input_list:\n",
    "        new_list.append(x * x)\n",
    "    return new_list\n",
    "square_list(list_example)"
   ]
  },
  {
   "cell_type": "code",
   "execution_count": 6,
   "id": "0f33d703-1982-412f-952c-2ffad2f02672",
   "metadata": {},
   "outputs": [
    {
     "name": "stdout",
     "output_type": "stream",
     "text": [
      "4.48 µs ± 160 ns per loop (mean ± std. dev. of 7 runs, 100000 loops each)\n"
     ]
    }
   ],
   "source": [
    "%%timeit\n",
    "list1=list(range(10))\n",
    "list1\n",
    "square_list(list1)"
   ]
  },
  {
   "cell_type": "code",
   "execution_count": 7,
   "id": "f61770de-91fc-4897-9fe4-f17866bcc911",
   "metadata": {},
   "outputs": [
    {
     "name": "stdout",
     "output_type": "stream",
     "text": [
      "30.5 µs ± 1.71 µs per loop (mean ± std. dev. of 7 runs, 10000 loops each)\n"
     ]
    }
   ],
   "source": [
    "%%timeit\n",
    "list2 = list(range(100))\n",
    "square_list(list2)"
   ]
  },
  {
   "cell_type": "code",
   "execution_count": 8,
   "id": "de86c216-2ae6-499d-85a7-1dc47cbd2be3",
   "metadata": {},
   "outputs": [
    {
     "name": "stdout",
     "output_type": "stream",
     "text": [
      "1.54 µs ± 81.1 ns per loop (mean ± std. dev. of 7 runs, 100000 loops each)\n"
     ]
    }
   ],
   "source": [
    "%%timeit\n",
    "list3 = list()\n",
    "square_list(list3)"
   ]
  },
  {
   "cell_type": "markdown",
   "id": "217cac72",
   "metadata": {},
   "source": [
    "# Hard"
   ]
  },
  {
   "cell_type": "markdown",
   "id": "0db421ba",
   "metadata": {},
   "source": [
    "\n",
    "Написать функцию, которая на вход принимает список, а возвращает словарь со среднием, медианой и модой, например \n",
    "вот такой: {\"mean\": ..., \"median\": ..., \"mode\": ...}. На следующем занятии разберем как это сделать при помощи библиотек, а пока нужно \n",
    "реализовать просто по формулам."
   ]
  },
  {
   "cell_type": "code",
   "execution_count": 22,
   "id": "3a9c20f3-f9ef-4f99-90ae-f90e0f49394a",
   "metadata": {},
   "outputs": [],
   "source": [
    "\n",
    "\n",
    "def dict_parametrs(input_list):\n",
    "    keys = [\"mean\" ,\"median\", \"mode\"]\n",
    "    mean = sum(input_list)/len(input_list)\n",
    "    sorted_list = sorted(input_list)\n",
    "    median=input_list[len(input_list)/2]\n",
    "    mode = 3\n",
    "    values = [mean, median , mode]\n",
    "    new_dict = {keys[i]: values[i] for i in range(len(keys))}\n",
    "    return new_dict"
   ]
  },
  {
   "cell_type": "code",
   "execution_count": 25,
   "id": "f2b04097-5c81-4132-b323-fc76f4b7e003",
   "metadata": {},
   "outputs": [
    {
     "name": "stdout",
     "output_type": "stream",
     "text": [
      "5.0\n"
     ]
    }
   ],
   "source": [
    "list1=list(range(11))\n",
    "mean = sum(list1)/len(list1)\n",
    "print(mean)\n"
   ]
  },
  {
   "cell_type": "code",
   "execution_count": 27,
   "id": "7c12c501-08c4-47d3-8e62-eea8341bca73",
   "metadata": {},
   "outputs": [
    {
     "data": {
      "text/plain": [
       "100"
      ]
     },
     "execution_count": 27,
     "metadata": {},
     "output_type": "execute_result"
    }
   ],
   "source": [
    "list2 = list(range(100))\n",
    "len(list2)\n",
    "#a = dict_parametrs(list2 )\n",
    "#a"
   ]
  },
  {
   "cell_type": "code",
   "execution_count": null,
   "id": "fecea779-a4ff-4d93-82f3-eb12489e4d64",
   "metadata": {},
   "outputs": [],
   "source": [
    "\n"
   ]
  },
  {
   "cell_type": "code",
   "execution_count": null,
   "id": "f617165d",
   "metadata": {},
   "outputs": [],
   "source": []
  }
 ],
 "metadata": {
  "kernelspec": {
   "display_name": "Python 3 (ipykernel)",
   "language": "python",
   "name": "python3"
  },
  "language_info": {
   "codemirror_mode": {
    "name": "ipython",
    "version": 3
   },
   "file_extension": ".py",
   "mimetype": "text/x-python",
   "name": "python",
   "nbconvert_exporter": "python",
   "pygments_lexer": "ipython3",
   "version": "3.9.7"
  }
 },
 "nbformat": 4,
 "nbformat_minor": 5
}
