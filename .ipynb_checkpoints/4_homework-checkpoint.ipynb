{
 "cells": [
  {
   "cell_type": "markdown",
   "id": "659c3fa2-ed8e-45e8-8619-08cbb82b1fee",
   "metadata": {
    "tags": []
   },
   "source": [
    "Easy"
   ]
  },
  {
   "cell_type": "markdown",
   "id": "f0251e4e-2f30-489d-b86a-974c80a11eba",
   "metadata": {},
   "source": [
    "\n",
    "Вычислить вероятность выживания, если пассажиру:\n",
    "\n",
    "от 0 до 25 лет\n",
    "от 25 до 50 лет\n",
    "от 50 лет и старше\n"
   ]
  },
  {
   "cell_type": "code",
   "execution_count": 3,
   "id": "27a7b437-b4b5-4b20-a892-b5e66a4d01df",
   "metadata": {},
   "outputs": [],
   "source": [
    "import pandas as pd\n",
    "import matplotlib.pyplot as plt\n",
    "df = pd.read_csv('C:/Users/Alexandr/Desktop/Data Science/Brunoiam/Untitled Folder/train.csv')\n"
   ]
  },
  {
   "cell_type": "code",
   "execution_count": 11,
   "id": "c76807a0-3f9e-425c-a9ff-df9618244086",
   "metadata": {},
   "outputs": [
    {
     "data": {
      "text/plain": [
       "<AxesSubplot:>"
      ]
     },
     "execution_count": 11,
     "metadata": {},
     "output_type": "execute_result"
    },
    {
     "data": {
      "image/png": "[encoded data removed]",
      "text/plain": [
       "<Figure size 432x288 with 1 Axes>"
      ]
     },
     "metadata": {
      "needs_background": "light"
     },
     "output_type": "display_data"
    }
   ],
   "source": [
    "serv = df.loc[df['Survived'] == 1]\n",
    "\n",
    "serv['Age'].hist()"
   ]
  },
  {
   "cell_type": "code",
   "execution_count": 9,
   "id": "ffa1c7a2-6bd2-4783-b660-890b6b45f900",
   "metadata": {},
   "outputs": [
    {
     "data": {
      "text/plain": [
       "0.1324354657687991"
      ]
     },
     "execution_count": 9,
     "metadata": {},
     "output_type": "execute_result"
    }
   ],
   "source": [
    "serv = df.loc[df['Survived'] == 1]\n",
    "serv_0_25 = serv[serv['Age'] < 25].shape[0]/df.shape[0]\n",
    "serv_0_25\n",
    "\n"
   ]
  },
  {
   "cell_type": "code",
   "execution_count": 18,
   "id": "2432eadd-1077-47a0-b7ee-c394e6a246a2",
   "metadata": {},
   "outputs": [
    {
     "data": {
      "text/plain": [
       "0.1627384960718294"
      ]
     },
     "execution_count": 18,
     "metadata": {},
     "output_type": "execute_result"
    }
   ],
   "source": [
    "serv_25_50 = serv[(serv['Age'] >= 25) & (serv['Age'] < 50)].shape[0]/df.shape[0]\n",
    "serv_25_50"
   ]
  },
  {
   "cell_type": "code",
   "execution_count": 19,
   "id": "9a717422-6ff0-404c-9c3d-f126a28d83eb",
   "metadata": {},
   "outputs": [
    {
     "data": {
      "text/plain": [
       "0.024691358024691357"
      ]
     },
     "execution_count": 19,
     "metadata": {},
     "output_type": "execute_result"
    }
   ],
   "source": [
    "serv_50 = serv[serv['Age'] > 50].shape[0]/df.shape[0]\n",
    "serv_50"
   ]
  },
  {
   "cell_type": "markdown",
   "id": "462b4ae9-f28e-4321-9595-564c1da7cd60",
   "metadata": {},
   "source": [
    "Normal"
   ]
  },
  {
   "cell_type": "markdown",
   "id": "dd4e13d1-cedd-4968-98e0-803135ce0780",
   "metadata": {},
   "source": [
    "Вычислить с какой вероятностью пассажир женского пола, если известно, что он выжил (использовать теорему Байеса)"
   ]
  },
  {
   "cell_type": "code",
   "execution_count": 21,
   "id": "b8b9ab84-7c61-42e5-8652-7b947c3b2195",
   "metadata": {},
   "outputs": [
    {
     "data": {
      "text/plain": [
       "0.24009424984083852"
      ]
     },
     "execution_count": 21,
     "metadata": {},
     "output_type": "execute_result"
    }
   ],
   "source": [
    "pA = serv.shape[0]/df.shape[0]\n",
    "pB1A = serv[serv['Sex'] == 'female'].shape[0]/df.shape[0]\n",
    "pB1 = df[df['Sex'] == 'female'].shape[0]/df.shape[0]\n",
    "pAB1 = pB1A * pB1 / pA \n",
    "pAB1"
   ]
  },
  {
   "cell_type": "markdown",
   "id": "d6998d19-8db4-426d-aa63-9f77d20fdc11",
   "metadata": {},
   "source": [
    "Hard\n"
   ]
  },
  {
   "cell_type": "markdown",
   "id": "dcffa0ec-298a-4bf9-bc59-51e5f7908ce0",
   "metadata": {},
   "source": [
    "Закон распределения задается функцией плотности\n",
    "\n",
    "\n",
    "\n",
    "Найти вероятность того, что событие произойдет при \n",
    "\n",
    "P.S. в scipy есть функция для интегрирования функции"
   ]
  },
  {
   "cell_type": "code",
   "execution_count": null,
   "id": "c3902689-2dff-4f46-8d80-5acd39d714c6",
   "metadata": {},
   "outputs": [],
   "source": []
  }
 ],
 "metadata": {
  "kernelspec": {
   "display_name": "Python 3 (ipykernel)",
   "language": "python",
   "name": "python3"
  },
  "language_info": {
   "codemirror_mode": {
    "name": "ipython",
    "version": 3
   },
   "file_extension": ".py",
   "mimetype": "text/x-python",
   "name": "python",
   "nbconvert_exporter": "python",
   "pygments_lexer": "ipython3",
   "version": "3.9.7"
  }
 },
 "nbformat": 4,
 "nbformat_minor": 5
}
