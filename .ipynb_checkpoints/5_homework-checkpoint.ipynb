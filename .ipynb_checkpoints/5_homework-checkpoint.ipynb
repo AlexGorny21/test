{
 "cells": [
  {
   "cell_type": "code",
   "execution_count": 14,
   "id": "734648d0-b0ca-410e-9744-459ca39addfb",
   "metadata": {},
   "outputs": [],
   "source": [
    "import pandas as pd\n",
    "import numpy as np\n",
    "import matplotlib.pyplot as plt\n",
    "import scipy.special\n",
    "import scipy.stats as st"
   ]
  },
  {
   "cell_type": "markdown",
   "id": "fa2dd205-6020-4411-afdc-755291f2ee3e",
   "metadata": {},
   "source": [
    "Easy"
   ]
  },
  {
   "cell_type": "markdown",
   "id": "3782d138-6025-4a87-b12d-43523d8b2e84",
   "metadata": {},
   "source": [
    "Оценить с помощью доверительных интервалов:\n",
    "\n",
    "выживаемость всех пассажиров (оценить среднее по isSurvived)\n",
    "выживаемость женщин\n",
    "выживаемость людей с каютами первого класса\n",
    "Ответить на вопросы:\n",
    "\n",
    "какой вариант оценки доверительных интервалов нужно использовать в данной задаче и почему?\n",
    "какая из ошибок более критична для данной задачи - I или II рода?"
   ]
  },
  {
   "cell_type": "code",
   "execution_count": 15,
   "id": "779dd147-beb5-4e99-be3f-6127f6e3e886",
   "metadata": {},
   "outputs": [],
   "source": [
    "df = pd.read_csv('C:/Users/Alexandr/Desktop/Data Science/Brunoiam/Untitled Folder/train.csv')"
   ]
  },
  {
   "cell_type": "code",
   "execution_count": 19,
   "id": "21a027af-db46-4e97-a7a3-10ba82d71016",
   "metadata": {},
   "outputs": [
    {
     "data": {
      "text/plain": [
       "(0.3518445989680297, 0.4158321687087379)"
      ]
     },
     "execution_count": 19,
     "metadata": {},
     "output_type": "execute_result"
    }
   ],
   "source": [
    "serv = df['Survived']\n",
    "all_serv = st.t.interval(0.95, len(serv)-1, loc=np.mean(serv), scale=st.sem(serv))\n",
    "all_serv"
   ]
  },
  {
   "cell_type": "code",
   "execution_count": 27,
   "id": "4e80986f-d276-44df-8aa0-df93f0547c55",
   "metadata": {},
   "outputs": [
    {
     "data": {
      "text/plain": [
       "(0.6933807726141714, 0.7906956605068476)"
      ]
     },
     "execution_count": 29,
     "metadata": {},
     "output_type": "execute_result"
    }
   ],
   "source": [
    "wom =df[df['Sex'] == 'female']\n",
    "wom_serv = wom['Survived']\n",
    "wom_servival =  st.t.interval(0.95, len(wom_serv)-1, loc=np.mean(wom_serv), scale=st.sem(wom_serv))\n",
    "wom_servival "
   ]
  },
  {
   "cell_type": "code",
   "execution_count": 33,
   "id": "60dbd183-a87f-4a01-9725-e2efcb181dbd",
   "metadata": {},
   "outputs": [
    {
     "data": {
      "text/plain": [
       "(0.5647152190969752, 0.6945440401622841)"
      ]
     },
     "execution_count": 33,
     "metadata": {},
     "output_type": "execute_result"
    }
   ],
   "source": [
    "Pclass = df[df['Pclass'] == 1]\n",
    "Pclass1 = Pclass['Survived']\n",
    "Pclass_serv = st.t.interval(0.95, len(Pclass1)-1, loc=np.mean(Pclass1), scale=st.sem(Pclass1))\n",
    "Pclass_serv"
   ]
  },
  {
   "cell_type": "code",
   "execution_count": null,
   "id": "95f7d3b2-b630-4a48-9a68-9c5fe1af2f3f",
   "metadata": {},
   "outputs": [],
   "source": []
  }
 ],
 "metadata": {
  "kernelspec": {
   "display_name": "Python 3 (ipykernel)",
   "language": "python",
   "name": "python3"
  },
  "language_info": {
   "codemirror_mode": {
    "name": "ipython",
    "version": 3
   },
   "file_extension": ".py",
   "mimetype": "text/x-python",
   "name": "python",
   "nbconvert_exporter": "python",
   "pygments_lexer": "ipython3",
   "version": "3.9.7"
  }
 },
 "nbformat": 4,
 "nbformat_minor": 5
}
